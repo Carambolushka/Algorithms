{
  "nbformat": 4,
  "nbformat_minor": 0,
  "metadata": {
    "colab": {
      "name": "Грокаем алгоритмы.ipynb",
      "provenance": [],
      "collapsed_sections": [],
      "authorship_tag": "ABX9TyP5Gq9TgQo2Z9Ge2voOJW1J",
      "include_colab_link": true
    },
    "kernelspec": {
      "name": "python3",
      "display_name": "Python 3"
    },
    "language_info": {
      "name": "python"
    }
  },
  "cells": [
    {
      "cell_type": "markdown",
      "metadata": {
        "id": "view-in-github",
        "colab_type": "text"
      },
      "source": [
        "<a href=\"https://colab.research.google.com/github/Carambolushka/Algorithms/blob/main/%D0%93%D1%80%D0%BE%D0%BA%D0%B0%D0%B5%D0%BC_%D0%B0%D0%BB%D0%B3%D0%BE%D1%80%D0%B8%D1%82%D0%BC%D1%8B.ipynb\" target=\"_parent\"><img src=\"https://colab.research.google.com/assets/colab-badge.svg\" alt=\"Open In Colab\"/></a>"
      ]
    },
    {
      "cell_type": "markdown",
      "metadata": {
        "id": "oiK-dmUFVMTS"
      },
      "source": [
        "### Бинарный поиск"
      ]
    },
    {
      "cell_type": "code",
      "metadata": {
        "id": "7SVeM5th_vNg"
      },
      "source": [
        "def binary_search(massive, item):\n",
        "    \"\"\"function searchs index of element in row\"\"\"\n",
        "    high = len(massive)-1\n",
        "    low = 0\n",
        "\n",
        "    counter = 0\n",
        "    while low <= high:\n",
        "        counter += 1\n",
        "        mid = (low+high)//2\n",
        "        maybe = massive[mid]\n",
        "\n",
        "        if item == maybe:\n",
        "            return mid, counter # index of this element\n",
        "\n",
        "        if item < maybe:\n",
        "            high = mid-1\n",
        "\n",
        "        if item > maybe:\n",
        "            low = mid+1\n",
        "    return None"
      ],
      "execution_count": null,
      "outputs": []
    },
    {
      "cell_type": "code",
      "metadata": {
        "id": "SpwepYWLFVi2"
      },
      "source": [
        "binary_search([1,2,3,4,5,6,7,8,11,13], 15)"
      ],
      "execution_count": null,
      "outputs": []
    },
    {
      "cell_type": "markdown",
      "metadata": {
        "id": "YHpm9DWTVUBG"
      },
      "source": [
        "### Сортировка выбором"
      ]
    },
    {
      "cell_type": "code",
      "metadata": {
        "id": "R7SsX_t8FcMV"
      },
      "source": [
        "def find_smallest(arr):\n",
        "    ind = 0\n",
        "    smallest = arr[ind]\n",
        "    \n",
        "    for i in range(1, len(arr)):\n",
        "        if arr[i] < smallest:\n",
        "            smallest = arr[i]\n",
        "            ind = i\n",
        "    return ind"
      ],
      "execution_count": null,
      "outputs": []
    },
    {
      "cell_type": "code",
      "metadata": {
        "colab": {
          "base_uri": "https://localhost:8080/"
        },
        "id": "hKHhsEwmWIrJ",
        "outputId": "7791a2b0-bf0b-4946-9132-8d1d6ebf3118"
      },
      "source": [
        "a = [19,3,4,10,1,2,3]\n",
        "find_smallest(a)\n",
        "a.append(a.pop(1))\n",
        "print(a)\n",
        "\n",
        "b = [100, 97, 2, 13, 4, 7, 72, 81, 23]"
      ],
      "execution_count": null,
      "outputs": [
        {
          "output_type": "stream",
          "text": [
            "[19, 4, 10, 1, 2, 3, 3]\n"
          ],
          "name": "stdout"
        }
      ]
    },
    {
      "cell_type": "code",
      "metadata": {
        "id": "rW4DnbsPWPJG"
      },
      "source": [
        "def Selection_Sort(arr):\n",
        "    new_arr = []\n",
        "    for i in range(len(arr)):\n",
        "        smallest_ind = find_smallest(arr)\n",
        "        new_arr.append(arr.pop(smallest_ind))\n",
        "    return new_arr"
      ],
      "execution_count": null,
      "outputs": []
    },
    {
      "cell_type": "code",
      "metadata": {
        "colab": {
          "base_uri": "https://localhost:8080/"
        },
        "id": "mfhkG13xXo_M",
        "outputId": "ea46cc99-efb5-4e38-bf06-0cf8651561a3"
      },
      "source": [
        "Selection_Sort(b)"
      ],
      "execution_count": null,
      "outputs": [
        {
          "output_type": "execute_result",
          "data": {
            "text/plain": [
              "[2, 4, 7, 13, 23, 72, 81, 97, 100]"
            ]
          },
          "metadata": {
            "tags": []
          },
          "execution_count": 14
        }
      ]
    },
    {
      "cell_type": "markdown",
      "metadata": {
        "id": "YPxZrQtnZ42l"
      },
      "source": [
        "### Рекурсия"
      ]
    },
    {
      "cell_type": "code",
      "metadata": {
        "id": "ocumUQLQaTTD"
      },
      "source": [
        ""
      ],
      "execution_count": null,
      "outputs": []
    }
  ]
}